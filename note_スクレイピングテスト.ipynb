{
  "nbformat": 4,
  "nbformat_minor": 0,
  "metadata": {
    "colab": {
      "provenance": []
    },
    "kernelspec": {
      "name": "python3",
      "display_name": "Python 3"
    },
    "language_info": {
      "name": "python"
    }
  },
  "cells": [
    {
      "cell_type": "markdown",
      "source": [
        "https://zenn.dev/robes/articles/b0542824ec61a6"
      ],
      "metadata": {
        "id": "kFJhYA_YduUV"
      }
    },
    {
      "cell_type": "code",
      "execution_count": null,
      "metadata": {
        "id": "sqwJX_H7YVof"
      },
      "outputs": [],
      "source": [
        "%%shell\n",
        "\n",
        "cat > /etc/apt/sources.list.d/debian.list <<'EOF'\n",
        "deb [arch=amd64 signed-by=/usr/share/keyrings/debian-buster.gpg] http://deb.debian.org/debian buster main\n",
        "deb [arch=amd64 signed-by=/usr/share/keyrings/debian-buster-updates.gpg] http://deb.debian.org/debian buster-updates main\n",
        "deb [arch=amd64 signed-by=/usr/share/keyrings/debian-security-buster.gpg] http://deb.debian.org/debian-security buster/updates main\n",
        "EOF\n",
        "\n",
        "\n",
        "apt-key adv --keyserver keyserver.ubuntu.com --recv-keys DCC9EFBF77E11517\n",
        "apt-key adv --keyserver keyserver.ubuntu.com --recv-keys 648ACFD622F3D138\n",
        "apt-key adv --keyserver keyserver.ubuntu.com --recv-keys 112695A0E562B32A\n",
        "\n",
        "apt-key export 77E11517 | gpg --dearmour -o /usr/share/keyrings/debian-buster.gpg\n",
        "apt-key export 22F3D138 | gpg --dearmour -o /usr/share/keyrings/debian-buster-updates.gpg\n",
        "apt-key export E562B32A | gpg --dearmour -o /usr/share/keyrings/debian-security-buster.gpg\n",
        "\n",
        "\n",
        "cat > /etc/apt/preferences.d/chromium.pref << 'EOF'\n",
        "Package: *\n",
        "Pin: release a=eoan\n",
        "Pin-Priority: 500\n",
        "\n",
        "\n",
        "Package: *\n",
        "Pin: origin \"deb.debian.org\"\n",
        "Pin-Priority: 300\n",
        "\n",
        "\n",
        "Package: chromium*\n",
        "Pin: origin \"deb.debian.org\"\n",
        "Pin-Priority: 700\n",
        "EOF\n",
        "\n",
        "apt-get update\n",
        "apt-get install chromium chromium-driver\n",
        "\n",
        "pip install -q selenium"
      ]
    },
    {
      "cell_type": "code",
      "source": [
        "from selenium import webdriver\n",
        "from selenium.webdriver.common.by import By\n",
        "from bs4 import BeautifulSoup\n",
        "import time\n",
        "import requests"
      ],
      "metadata": {
        "id": "JibcSxFLdf7F"
      },
      "execution_count": 22,
      "outputs": []
    },
    {
      "cell_type": "code",
      "source": [
        "# ブラウザをheadlessモード実行\n",
        "options = webdriver.ChromeOptions()\n",
        "#ヘッドレスモード（バックグラウンドで起動）で実行。コラボの場合、必須。\n",
        "options.add_argument('--headless')\n",
        "#サンドボックスモードの解除。これも必須。\n",
        "options.add_argument('--no-sandbox')\n",
        "#これも設定した方がよい。\n",
        "options.add_argument('--disable-dev-shm-usage')"
      ],
      "metadata": {
        "id": "jvm9lYq3dgod"
      },
      "execution_count": 23,
      "outputs": []
    },
    {
      "cell_type": "code",
      "source": [
        "#インスタンス化\n",
        "driver = webdriver.Chrome('chromedriver',options=options)\n",
        "#指定したドライバーが見つかるまで待機\n",
        "driver.implicitly_wait(10)\n",
        "\n",
        "#urlの指定\n",
        "url=\"https://note.com/login\"\n",
        "\n",
        "driver.get(url)\n",
        "time.sleep(3)\n",
        "\n",
        "print(\"サイトのタイトル：\", driver.title)"
      ],
      "metadata": {
        "colab": {
          "base_uri": "https://localhost:8080/"
        },
        "id": "wBdhcg7ndlqp",
        "outputId": "cd34eca7-0188-49d3-e9ab-123ef9caa3fd"
      },
      "execution_count": 59,
      "outputs": [
        {
          "output_type": "stream",
          "name": "stdout",
          "text": [
            "サイトのタイトル： ログイン｜note（ノート）\n"
          ]
        }
      ]
    },
    {
      "cell_type": "code",
      "source": [
        "# ページソースの確認\n",
        "# html = driver.page_source\n",
        "# BeautifulSoup(html,\"lxml\")\n"
      ],
      "metadata": {
        "id": "cA-24uOQdlhf"
      },
      "execution_count": 60,
      "outputs": []
    },
    {
      "cell_type": "code",
      "source": [
        "login = \"ryuryu1117.p@gmail.com\"\n",
        "password = \"setooo\"\n",
        "\n",
        "# ユーザー名入力\n",
        "driver.find_element(By.XPATH,\"//*[@id='email']\").send_keys(login)\n",
        "\n",
        "# パスワード入力\n",
        "driver.find_element(By.XPATH,\"//*[@id='password']\").send_keys(password)\n",
        "\n",
        "# ログインボタンクリック\n",
        "btn = driver.find_element(By.XPATH,\"//*[@id='__layout']/div/div[1]/main/div/div[2]/div[5]/button/div\")\n",
        "btn.click()\n",
        "time.sleep(3)\n",
        "\n",
        "# ダッシュボードに遷移\n",
        "url = \"https://note.com/sitesettings/stats\"\n",
        "driver.get(url)\n",
        "html = driver.page_source"
      ],
      "metadata": {
        "id": "RzZdhiSZeUTx"
      },
      "execution_count": 61,
      "outputs": []
    },
    {
      "cell_type": "code",
      "source": [
        "soup = BeautifulSoup(html, 'html.parser')"
      ],
      "metadata": {
        "id": "6L3OrnMuqUIy"
      },
      "execution_count": 67,
      "outputs": []
    },
    {
      "cell_type": "code",
      "source": [
        "tmp = soup.find_all(class_=\"o-statsContent__overviewNum\")\n",
        "tmp"
      ],
      "metadata": {
        "colab": {
          "base_uri": "https://localhost:8080/"
        },
        "id": "q_k5NIV1qUFh",
        "outputId": "75fd03f5-5a6a-42c2-b16f-4f7769760d55"
      },
      "execution_count": 71,
      "outputs": [
        {
          "output_type": "execute_result",
          "data": {
            "text/plain": [
              "[<div class=\"o-statsContent__overviewNum\" data-v-39dcb008=\"\">\n",
              "             55\n",
              "           </div>,\n",
              " <div class=\"o-statsContent__overviewNum\" data-v-39dcb008=\"\">\n",
              "             0\n",
              "           </div>,\n",
              " <div class=\"o-statsContent__overviewNum\" data-v-39dcb008=\"\">\n",
              "             1\n",
              "           </div>]"
            ]
          },
          "metadata": {},
          "execution_count": 71
        }
      ]
    },
    {
      "cell_type": "code",
      "source": [
        "tmp[0].text"
      ],
      "metadata": {
        "colab": {
          "base_uri": "https://localhost:8080/",
          "height": 36
        },
        "id": "i0nQds37qUAo",
        "outputId": "46ac2e65-a832-4ba2-e0c2-8e81a9ba68b3"
      },
      "execution_count": 79,
      "outputs": [
        {
          "output_type": "execute_result",
          "data": {
            "text/plain": [
              "'\\n            55\\n          '"
            ],
            "application/vnd.google.colaboratory.intrinsic+json": {
              "type": "string"
            }
          },
          "metadata": {},
          "execution_count": 79
        }
      ]
    },
    {
      "cell_type": "code",
      "source": [],
      "metadata": {
        "id": "SdxX9oxCqT62"
      },
      "execution_count": null,
      "outputs": []
    },
    {
      "cell_type": "code",
      "source": [],
      "metadata": {
        "id": "7gjLEQUsqT1K"
      },
      "execution_count": null,
      "outputs": []
    },
    {
      "cell_type": "code",
      "source": [],
      "metadata": {
        "id": "r-GLNP58nA1J"
      },
      "execution_count": null,
      "outputs": []
    }
  ]
}